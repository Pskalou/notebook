{
 "cells": [
  {
   "cell_type": "markdown",
   "metadata": {},
   "source": [
    "Ceci est un **NOTEBOOK**.\n",
    "\n",
    "\n",
    "Sur un notebook tu peux\n",
    "\n",
    "* lire (et modifier) ce que le prof a écrit\n",
    "* tester ton code. \n",
    "\n",
    "----\n",
    "----\n",
    "\n",
    "Tu y fais ce que tu veux (ou presque) : c'est **toi** qui décide.\n",
    "\n",
    "\n",
    "\n",
    "\n",
    "### À faire 1\n",
    "\n",
    "Dans le bloc de code ci dessous (qui commence par : ```In [] : ...```) :\n",
    "\n",
    "\n",
    "1. écris le code suivant  \n",
    "```\n",
    "12 * 4 +7\n",
    "```\n",
    "* valides ton code\n",
    "\n",
    "**Astuce** : \n",
    "pour *valider* ton code tu peux (au choix) :\n",
    "* soit cliquer sur *Run*\n",
    "* soit taper ```Ctrl + Entrer```\n",
    "* soit taper ```Maj + Entrer```"
   ]
  },
  {
   "cell_type": "code",
   "execution_count": null,
   "metadata": {},
   "outputs": [],
   "source": []
  },
  {
   "cell_type": "markdown",
   "metadata": {},
   "source": [
    "Si au dessus de ce texte tu vois :\n",
    "```Out[1]: 55```\n",
    "\n",
    "alors\n",
    "# BRAVO !!!\n",
    "![](https://media.giphy.com/media/MOWPkhRAUbR7i/giphy.gif)"
   ]
  },
  {
   "cell_type": "markdown",
   "metadata": {},
   "source": [
    "### À faire 2\n",
    "\n",
    "Dans le bloc de code ci-dessous, saisir ```144**0.5```."
   ]
  },
  {
   "cell_type": "code",
   "execution_count": null,
   "metadata": {},
   "outputs": [],
   "source": []
  },
  {
   "cell_type": "markdown",
   "metadata": {},
   "source": [
    "# Le problème d'Alice et Bertrand\n",
    "\n",
    "![](https://media.giphy.com/media/yvpRuXX3erxYc/giphy.gif)\n",
    "\n",
    "> Alice et Bertrand jouent avec leur calculatrice.\n",
    "> Ils tapent le même nombre sur leur calculatrice :\n",
    "* Alice lui **ajoute 4, puis multiplie le résultat obtenu par 7**.\n",
    "* Bertrand **multiplie le nombre affiché par 2 puis ajoute 13 au résultat**.\n",
    "> \n",
    "> À leur grand étonnement, ils s’aperçoivent qu’ils obtiennent le même résultat.\n",
    "\n",
    "Nous allons résoudre cette énigme en 4 temps :\n",
    "* le cas d'Alice (détaillé)\n",
    "* le cas d'Alice \n",
    "* le cas de Bertrand\n",
    "* Alice et Bertrand"
   ]
  },
  {
   "cell_type": "markdown",
   "metadata": {},
   "source": [
    "### À faire 3.\n",
    "\n",
    "Dans le bloc de code ci-dessous, j'ai saisi un calcul.\n",
    "\n",
    "Je trouve ```10.5``` mais **à quoi peut bien correspondre ce résultat ?!?**"
   ]
  },
  {
   "cell_type": "code",
   "execution_count": 4,
   "metadata": {},
   "outputs": [
    {
     "data": {
      "text/plain": [
       "10.5"
      ]
     },
     "execution_count": 4,
     "metadata": {},
     "output_type": "execute_result"
    }
   ],
   "source": [
    "(-2.5 + 4) * 7"
   ]
  },
  {
   "cell_type": "markdown",
   "metadata": {},
   "source": [
    "![](https://media.giphy.com/media/Bb3QmWV36kMQ8/giphy.gif)\n",
    "\n",
    "Pour **afficher** deux résultats, on peut utiliser la commande ```print()```"
   ]
  },
  {
   "cell_type": "code",
   "execution_count": 2,
   "metadata": {},
   "outputs": [
    {
     "name": "stdout",
     "output_type": "stream",
     "text": [
      "premier calcul\n",
      "728\n",
      "deuxième calcul\n",
      "112\n"
     ]
    }
   ],
   "source": [
    "print(\"premier calcul\")\n",
    "print((100 + 4) * 7)\n",
    "print(\"deuxième calcul\")\n",
    "print((12 + 4) * 7)"
   ]
  },
  {
   "cell_type": "markdown",
   "metadata": {},
   "source": [
    "ou pour afficher **plusieurs instructions** sur une ligne `print(... , ...)` :"
   ]
  },
  {
   "cell_type": "code",
   "execution_count": 5,
   "metadata": {
    "scrolled": true
   },
   "outputs": [
    {
     "name": "stdout",
     "output_type": "stream",
     "text": [
      "premier calcul 728\n",
      "deuxième calcul 112\n"
     ]
    }
   ],
   "source": [
    "print(\"premier calcul\"  , (100+4)*7 ) \n",
    "print(\"deuxième calcul\" , (12+4)*7  )"
   ]
  },
  {
   "cell_type": "markdown",
   "metadata": {},
   "source": [
    "![](https://media.giphy.com/media/l2Jhou89HM3zdyKpq/giphy.gif)\n",
    "\n",
    "# À faire 4.\n",
    "Complète le bloc ci-dessous afin d'**afficher :**\n",
    "\n",
    "> Ton objectif : afficher ```pour Bertrand 5.5 donne ---> xx.x``` \n",
    "\n",
    "*où xx.x est le résultat du calcul effectué par Bertrand*."
   ]
  },
  {
   "cell_type": "code",
   "execution_count": 13,
   "metadata": {},
   "outputs": [
    {
     "name": "stdout",
     "output_type": "stream",
     "text": [
      "...\n"
     ]
    }
   ],
   "source": [
    "print(\"...\", )"
   ]
  },
  {
   "cell_type": "markdown",
   "metadata": {},
   "source": [
    "# À faire 5.\n",
    "\n",
    "Pour automatiser les calculs, nous allons créer une **fonction** pour Alice qui pour chaque nombre va nous **renvoyer** le résultat de son calcul.\n",
    "\n",
    "Saisir le code suivant :\n",
    "\n",
    "```python\n",
    "def resultat_alice (nb):\n",
    "    return (nb+4) * 7\n",
    "```\n"
   ]
  },
  {
   "cell_type": "code",
   "execution_count": null,
   "metadata": {},
   "outputs": [],
   "source": []
  },
  {
   "cell_type": "markdown",
   "metadata": {},
   "source": [
    "Tester la fonction sur la valeur 314 en saisissant :\n",
    "\n",
    "> ```python\n",
    "resultat_alice (314)\n",
    "```\n",
    "\n",
    "et si tout fonctionne tu devrais trouver `2226`."
   ]
  },
  {
   "cell_type": "code",
   "execution_count": null,
   "metadata": {},
   "outputs": [],
   "source": []
  },
  {
   "cell_type": "markdown",
   "metadata": {},
   "source": [
    "# À faire 6.\n",
    "\n",
    "Recopier le code suivant dans le bloc.\n",
    "\n",
    "```python\n",
    "nb= 100\n",
    "for loop in range (10):\n",
    "    a = round(resultat_alice(nb),3)\n",
    "    nb= round(nb,3)\n",
    "    \n",
    "    print (nb, \"\\t-->\\t\", a )\n",
    "    \n",
    "    nb= nb + 0.2\n",
    "```"
   ]
  },
  {
   "cell_type": "code",
   "execution_count": null,
   "metadata": {},
   "outputs": [],
   "source": []
  }
 ],
 "metadata": {
  "kernelspec": {
   "display_name": "Python 3",
   "language": "python",
   "name": "python3"
  },
  "language_info": {
   "codemirror_mode": {
    "name": "ipython",
    "version": 3
   },
   "file_extension": ".py",
   "mimetype": "text/x-python",
   "name": "python",
   "nbconvert_exporter": "python",
   "pygments_lexer": "ipython3",
   "version": "3.7.0"
  }
 },
 "nbformat": 4,
 "nbformat_minor": 2
}
